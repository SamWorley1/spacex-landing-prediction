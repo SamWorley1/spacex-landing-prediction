{
 "cells": [
  {
   "cell_type": "code",
   "execution_count": 1,
   "id": "46b907e4-0ef6-4978-bc4b-6ae3fd49687c",
   "metadata": {},
   "outputs": [
    {
     "name": "stdout",
     "output_type": "stream",
     "text": [
      "Requirement already satisfied: pandas in /Users/samworley/opt/anaconda3/envs/newenv/lib/python3.9/site-packages (1.1.5)\n",
      "Requirement already satisfied: dash in /Users/samworley/opt/anaconda3/envs/newenv/lib/python3.9/site-packages (2.17.0)\n",
      "Requirement already satisfied: python-dateutil>=2.7.3 in /Users/samworley/opt/anaconda3/envs/newenv/lib/python3.9/site-packages (from pandas) (2.8.2)\n",
      "Requirement already satisfied: pytz>=2017.2 in /Users/samworley/opt/anaconda3/envs/newenv/lib/python3.9/site-packages (from pandas) (2023.3.post1)\n",
      "Requirement already satisfied: numpy>=1.15.4 in /Users/samworley/opt/anaconda3/envs/newenv/lib/python3.9/site-packages (from pandas) (1.26.4)\n",
      "Requirement already satisfied: Flask<3.1,>=1.0.4 in /Users/samworley/opt/anaconda3/envs/newenv/lib/python3.9/site-packages (from dash) (3.0.3)\n",
      "Requirement already satisfied: Werkzeug<3.1 in /Users/samworley/opt/anaconda3/envs/newenv/lib/python3.9/site-packages (from dash) (3.0.3)\n",
      "Requirement already satisfied: plotly>=5.0.0 in /Users/samworley/opt/anaconda3/envs/newenv/lib/python3.9/site-packages (from dash) (5.21.0)\n",
      "Requirement already satisfied: dash-html-components==2.0.0 in /Users/samworley/opt/anaconda3/envs/newenv/lib/python3.9/site-packages (from dash) (2.0.0)\n",
      "Requirement already satisfied: dash-core-components==2.0.0 in /Users/samworley/opt/anaconda3/envs/newenv/lib/python3.9/site-packages (from dash) (2.0.0)\n",
      "Requirement already satisfied: dash-table==5.0.0 in /Users/samworley/opt/anaconda3/envs/newenv/lib/python3.9/site-packages (from dash) (5.0.0)\n",
      "Requirement already satisfied: importlib-metadata in /Users/samworley/opt/anaconda3/envs/newenv/lib/python3.9/site-packages (from dash) (7.0.1)\n",
      "Requirement already satisfied: typing-extensions>=4.1.1 in /Users/samworley/opt/anaconda3/envs/newenv/lib/python3.9/site-packages (from dash) (4.9.0)\n",
      "Requirement already satisfied: requests in /Users/samworley/opt/anaconda3/envs/newenv/lib/python3.9/site-packages (from dash) (2.31.0)\n",
      "Requirement already satisfied: retrying in /Users/samworley/opt/anaconda3/envs/newenv/lib/python3.9/site-packages (from dash) (1.3.4)\n",
      "Requirement already satisfied: nest-asyncio in /Users/samworley/opt/anaconda3/envs/newenv/lib/python3.9/site-packages (from dash) (1.6.0)\n",
      "Requirement already satisfied: setuptools in /Users/samworley/opt/anaconda3/envs/newenv/lib/python3.9/site-packages (from dash) (68.2.2)\n",
      "Requirement already satisfied: Jinja2>=3.1.2 in /Users/samworley/opt/anaconda3/envs/newenv/lib/python3.9/site-packages (from Flask<3.1,>=1.0.4->dash) (3.1.3)\n",
      "Requirement already satisfied: itsdangerous>=2.1.2 in /Users/samworley/opt/anaconda3/envs/newenv/lib/python3.9/site-packages (from Flask<3.1,>=1.0.4->dash) (2.2.0)\n",
      "Requirement already satisfied: click>=8.1.3 in /Users/samworley/opt/anaconda3/envs/newenv/lib/python3.9/site-packages (from Flask<3.1,>=1.0.4->dash) (8.1.7)\n",
      "Requirement already satisfied: blinker>=1.6.2 in /Users/samworley/opt/anaconda3/envs/newenv/lib/python3.9/site-packages (from Flask<3.1,>=1.0.4->dash) (1.8.2)\n",
      "Requirement already satisfied: zipp>=0.5 in /Users/samworley/opt/anaconda3/envs/newenv/lib/python3.9/site-packages (from importlib-metadata->dash) (3.17.0)\n",
      "Requirement already satisfied: tenacity>=6.2.0 in /Users/samworley/opt/anaconda3/envs/newenv/lib/python3.9/site-packages (from plotly>=5.0.0->dash) (8.2.3)\n",
      "Requirement already satisfied: packaging in /Users/samworley/opt/anaconda3/envs/newenv/lib/python3.9/site-packages (from plotly>=5.0.0->dash) (23.2)\n",
      "Requirement already satisfied: six>=1.5 in /Users/samworley/opt/anaconda3/envs/newenv/lib/python3.9/site-packages (from python-dateutil>=2.7.3->pandas) (1.16.0)\n",
      "Requirement already satisfied: MarkupSafe>=2.1.1 in /Users/samworley/opt/anaconda3/envs/newenv/lib/python3.9/site-packages (from Werkzeug<3.1->dash) (2.1.3)\n",
      "Requirement already satisfied: charset-normalizer<4,>=2 in /Users/samworley/opt/anaconda3/envs/newenv/lib/python3.9/site-packages (from requests->dash) (2.0.4)\n",
      "Requirement already satisfied: idna<4,>=2.5 in /Users/samworley/opt/anaconda3/envs/newenv/lib/python3.9/site-packages (from requests->dash) (3.4)\n",
      "Requirement already satisfied: urllib3<3,>=1.21.1 in /Users/samworley/opt/anaconda3/envs/newenv/lib/python3.9/site-packages (from requests->dash) (2.1.0)\n",
      "Requirement already satisfied: certifi>=2017.4.17 in /Users/samworley/opt/anaconda3/envs/newenv/lib/python3.9/site-packages (from requests->dash) (2024.2.2)\n"
     ]
    }
   ],
   "source": [
    "!pip install pandas dash"
   ]
  },
  {
   "cell_type": "code",
   "execution_count": 2,
   "id": "67bbab88-a01e-4606-b7b5-05a0e29de29f",
   "metadata": {},
   "outputs": [
    {
     "name": "stdout",
     "output_type": "stream",
     "text": [
      "File downloaded successfully!\n"
     ]
    }
   ],
   "source": [
    "import requests\n",
    "\n",
    "url = \"https://cf-courses-data.s3.us.cloud-object-storage.appdomain.cloud/IBM-DS0321EN-SkillsNetwork/datasets/spacex_launch_dash.csv\"\n",
    "response = requests.get(url)\n",
    "\n",
    "with open(\"spacex_launch_dash.csv\", \"wb\") as file:\n",
    "    file.write(response.content)\n",
    "\n",
    "print(\"File downloaded successfully!\")\n"
   ]
  },
  {
   "cell_type": "code",
   "execution_count": 3,
   "id": "eda5a253-1bd5-4c12-a24f-1f40259e0166",
   "metadata": {},
   "outputs": [
    {
     "name": "stdout",
     "output_type": "stream",
     "text": [
      "File downloaded successfully!\n"
     ]
    }
   ],
   "source": [
    "import requests\n",
    "\n",
    "url = \"https://cf-courses-data.s3.us.cloud-object-storage.appdomain.cloud/IBM-DS0321EN-SkillsNetwork/labs/module_3/spacex_dash_app.py\"\n",
    "response = requests.get(url)\n",
    "\n",
    "with open(\"spacex_dash_app.py\", \"wb\") as file:\n",
    "    file.write(response.content)\n",
    "\n",
    "print(\"File downloaded successfully!\")\n",
    "\n"
   ]
  },
  {
   "cell_type": "code",
   "execution_count": 4,
   "id": "267e4eeb-4747-4ae6-bc01-7754b90419db",
   "metadata": {},
   "outputs": [
    {
     "name": "stderr",
     "output_type": "stream",
     "text": [
      "/Users/samworley/Downloads/spacex_dash_app.py:4: UserWarning: \n",
      "The dash_html_components package is deprecated. Please replace\n",
      "`import dash_html_components as html` with `from dash import html`\n",
      "  import dash_html_components as html\n",
      "/Users/samworley/Downloads/spacex_dash_app.py:5: UserWarning: \n",
      "The dash_core_components package is deprecated. Please replace\n",
      "`import dash_core_components as dcc` with `from dash import dcc`\n",
      "  import dash_core_components as dcc\n",
      "\u001b[31m\u001b[1mWARNING: This is a development server. Do not use it in a production deployment. Use a production WSGI server instead.\u001b[0m\n",
      " * Running on http://127.0.0.1:8050\n",
      "\u001b[33mPress CTRL+C to quit\u001b[0m\n"
     ]
    },
    {
     "name": "stdout",
     "output_type": "stream",
     "text": [
      "Dash is running on http://127.0.0.1:8050/\n",
      "\n",
      " * Serving Flask app 'spacex_dash_app'\n",
      " * Debug mode: off\n"
     ]
    },
    {
     "name": "stderr",
     "output_type": "stream",
     "text": [
      "127.0.0.1 - - [18/Jul/2024 22:11:38] \"GET / HTTP/1.1\" 200 -\n",
      "127.0.0.1 - - [18/Jul/2024 22:11:38] \"\u001b[36mGET /_dash-component-suites/dash/dcc/async-graph.js HTTP/1.1\u001b[0m\" 304 -\n",
      "127.0.0.1 - - [18/Jul/2024 22:11:38] \"\u001b[36mGET /_dash-component-suites/plotly/package_data/plotly.min.js HTTP/1.1\u001b[0m\" 304 -\n",
      "127.0.0.1 - - [18/Jul/2024 22:11:38] \"GET /_dash-layout HTTP/1.1\" 200 -\n",
      "127.0.0.1 - - [18/Jul/2024 22:11:38] \"GET /_dash-dependencies HTTP/1.1\" 200 -\n"
     ]
    }
   ],
   "source": [
    "import threading\n",
    "import os\n",
    "\n",
    "# Function to run the Dash app\n",
    "def run_dash():\n",
    "    os.system(\"python spacex_dash_app.py\")\n",
    "\n",
    "# Run the Dash app in a separate thread\n",
    "thread = threading.Thread(target=run_dash)\n",
    "thread.start()"
   ]
  },
  {
   "cell_type": "code",
   "execution_count": null,
   "id": "5fda78ec-c714-4ddd-82a4-cd41e1d82272",
   "metadata": {},
   "outputs": [],
   "source": []
  },
  {
   "cell_type": "code",
   "execution_count": 7,
   "id": "a016ad9c-fd03-4a78-820c-5048f0d10893",
   "metadata": {},
   "outputs": [
    {
     "name": "stdout",
     "output_type": "stream",
     "text": [
      "COMMAND    PID      USER   FD   TYPE             DEVICE SIZE/OFF NODE NAME\n",
      "python3.9 6229 samworley    4u  IPv4 0x676ea06ea7cedba4      0t0  TCP localhost:8050 (LISTEN)\n"
     ]
    }
   ],
   "source": [
    "!lsof -i :8050\n"
   ]
  },
  {
   "cell_type": "code",
   "execution_count": 8,
   "id": "9a7681a6-f17c-4c08-ac19-0e5efa50ab29",
   "metadata": {},
   "outputs": [],
   "source": [
    "!kill 6229\n"
   ]
  },
  {
   "cell_type": "code",
   "execution_count": 23,
   "id": "5e63b400-df38-4fe8-b6f7-a506b5432221",
   "metadata": {},
   "outputs": [
    {
     "data": {
      "text/html": [
       "\n",
       "        <iframe\n",
       "            width=\"100%\"\n",
       "            height=\"650\"\n",
       "            src=\"http://127.0.0.1:8050/\"\n",
       "            frameborder=\"0\"\n",
       "            allowfullscreen\n",
       "            \n",
       "        ></iframe>\n",
       "        "
      ],
      "text/plain": [
       "<IPython.lib.display.IFrame at 0x7ff409d93580>"
      ]
     },
     "metadata": {},
     "output_type": "display_data"
    }
   ],
   "source": [
    "from dash import Dash, html, dcc, Input, Output\n",
    "import pandas as pd\n",
    "import plotly.express as px  # Import plotly.express\n",
    "\n",
    "# Load data\n",
    "spacex_df = pd.read_csv('spacex_launch_dash.csv')\n",
    "launch_sites = spacex_df['Launch Site'].unique()\n",
    "\n",
    "# Initialize the Dash app\n",
    "app = Dash(__name__)\n",
    "\n",
    "app.layout = html.Div(children=[\n",
    "    html.H1('SpaceX Launch Records Dashboard'),\n",
    "    \n",
    "    # Dropdown for Launch Sites\n",
    "    dcc.Dropdown(\n",
    "        id='site-dropdown',\n",
    "        options=[{'label': 'All Sites', 'value': 'ALL'}] + [{'label': site, 'value': site} for site in launch_sites],\n",
    "        value='ALL',\n",
    "        placeholder='Select a Launch Site here',\n",
    "        searchable=True\n",
    "    ),\n",
    "    # Pie chart for success rate\n",
    "    dcc.Graph(id='success-pie-chart'),\n",
    "    # Add other components here\n",
    "])\n",
    "# Callback to update pie chart\n",
    "@app.callback(Output(component_id='success-pie-chart', component_property='figure'),\n",
    "              Input(component_id='site-dropdown', component_property='value'))\n",
    "def get_pie_chart(entered_site):\n",
    "    filtered_df = spacex_df\n",
    "    if entered_site == 'ALL':\n",
    "        fig = px.pie(filtered_df, names='Launch Site', \n",
    "                     values='class', \n",
    "                     title='Total Success Launches By Site')\n",
    "    else:\n",
    "        filtered_df = spacex_df[spacex_df['Launch Site'] == entered_site]\n",
    "        fig = px.pie(filtered_df, names='class', \n",
    "                     title=f'Total Success Launches for site {entered_site}')\n",
    "    return fig\n",
    "\n",
    "\n",
    "\n",
    "if __name__ == '__main__':\n",
    "    app.run_server(debug=True, port=8050)\n"
   ]
  },
  {
   "cell_type": "code",
   "execution_count": 24,
   "id": "1e4407d2-e6b4-4a81-b06c-61e654379fe4",
   "metadata": {},
   "outputs": [
    {
     "data": {
      "text/html": [
       "\n",
       "        <iframe\n",
       "            width=\"100%\"\n",
       "            height=\"650\"\n",
       "            src=\"http://127.0.0.1:8050/\"\n",
       "            frameborder=\"0\"\n",
       "            allowfullscreen\n",
       "            \n",
       "        ></iframe>\n",
       "        "
      ],
      "text/plain": [
       "<IPython.lib.display.IFrame at 0x7ff3f913f730>"
      ]
     },
     "metadata": {},
     "output_type": "display_data"
    }
   ],
   "source": [
    "from dash import Dash, html, dcc, Input, Output\n",
    "import pandas as pd\n",
    "import plotly.express as px\n",
    "\n",
    "# Load data\n",
    "spacex_df = pd.read_csv('spacex_launch_dash.csv')\n",
    "launch_sites = spacex_df['Launch Site'].unique()\n",
    "min_payload = spacex_df['Payload Mass (kg)'].min()\n",
    "max_payload = spacex_df['Payload Mass (kg)'].max()\n",
    "\n",
    "# Initialize the Dash app\n",
    "app = Dash(__name__)\n",
    "\n",
    "app.layout = html.Div(children=[\n",
    "    html.H1('SpaceX Launch Records Dashboard'),\n",
    "    \n",
    "    # Dropdown for Launch Sites\n",
    "    dcc.Dropdown(\n",
    "        id='site-dropdown',\n",
    "        options=[{'label': 'All Sites', 'value': 'ALL'}] + [{'label': site, 'value': site} for site in launch_sites],\n",
    "        value='ALL',\n",
    "        placeholder='Select a Launch Site here',\n",
    "        searchable=True\n",
    "    ),\n",
    "    \n",
    "    # Pie chart for success rate\n",
    "    dcc.Graph(id='success-pie-chart'),\n",
    "    \n",
    "    # Range slider for payload mass\n",
    "    dcc.RangeSlider(\n",
    "        id='payload-slider',\n",
    "        min=0,\n",
    "        max=10000,\n",
    "        step=1000,\n",
    "        marks={i: f'{i}' for i in range(0, 10001, 1000)},\n",
    "        value=[min_payload, max_payload]\n",
    "    ),\n",
    "    \n",
    "    # Scatter plot for payload vs. success\n",
    "    dcc.Graph(id='success-payload-scatter-chart'),\n",
    "])\n",
    "\n",
    "# Callback to update pie chart\n",
    "@app.callback(Output(component_id='success-pie-chart', component_property='figure'),\n",
    "              Input(component_id='site-dropdown', component_property='value'))\n",
    "def get_pie_chart(entered_site):\n",
    "    if entered_site == 'ALL':\n",
    "        # Filter the data for all sites\n",
    "        success_counts = spacex_df[spacex_df['class'] == 1]['Launch Site'].value_counts().reset_index()\n",
    "        success_counts.columns = ['Launch Site', 'count']\n",
    "        fig = px.pie(success_counts, values='count', \n",
    "                     names='Launch Site', \n",
    "                     title='Total Success Launches By Site')\n",
    "    else:\n",
    "        # Filter the data for the selected site\n",
    "        filtered_df = spacex_df[spacex_df['Launch Site'] == entered_site]\n",
    "        success_counts = filtered_df['class'].value_counts().reset_index()\n",
    "        success_counts.columns = ['class', 'count']\n",
    "        fig = px.pie(success_counts, values='count', \n",
    "                     names='class', \n",
    "                     title=f'Total Success Launches for site {entered_site}')\n",
    "    return fig\n",
    "\n",
    "# Callback to update scatter plot\n",
    "@app.callback(\n",
    "    Output(component_id='success-payload-scatter-chart', component_property='figure'),\n",
    "    Input(component_id='site-dropdown', component_property='value'),\n",
    "    Input(component_id='payload-slider', component_property='value'))\n",
    "def update_scatter_plot(selected_site, selected_payload):\n",
    "    filtered_df = spacex_df[(spacex_df['Payload Mass (kg)'] >= selected_payload[0]) & \n",
    "                            (spacex_df['Payload Mass (kg)'] <= selected_payload[1])]\n",
    "    if selected_site == 'ALL':\n",
    "        fig = px.scatter(filtered_df, x='Payload Mass (kg)', y='class', \n",
    "                         color='Booster Version Category', \n",
    "                         title='Payload vs. Outcome for all Sites')\n",
    "    else:\n",
    "        filtered_df = filtered_df[filtered_df['Launch Site'] == selected_site]\n",
    "        fig = px.scatter(filtered_df, x='Payload Mass (kg)', y='class', \n",
    "                         color='Booster Version Category', \n",
    "                         title=f'Payload vs. Outcome for {selected_site}')\n",
    "    return fig\n",
    "\n",
    "if __name__ == '__main__':\n",
    "    app.run_server(debug=True, port=8050)\n"
   ]
  },
  {
   "cell_type": "code",
   "execution_count": null,
   "id": "b81125f5-d1c3-45f1-9bed-8288a1dee1d1",
   "metadata": {},
   "outputs": [],
   "source": []
  }
 ],
 "metadata": {
  "kernelspec": {
   "display_name": "Python 3 (ipykernel)",
   "language": "python",
   "name": "python3"
  },
  "language_info": {
   "codemirror_mode": {
    "name": "ipython",
    "version": 3
   },
   "file_extension": ".py",
   "mimetype": "text/x-python",
   "name": "python",
   "nbconvert_exporter": "python",
   "pygments_lexer": "ipython3",
   "version": "3.9.19"
  }
 },
 "nbformat": 4,
 "nbformat_minor": 5
}
